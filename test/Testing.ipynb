{
 "cells": [
  {
   "cell_type": "code",
   "execution_count": 16,
   "metadata": {},
   "outputs": [
    {
     "name": "stdout",
     "output_type": "stream",
     "text": [
      "Python 3.7.4 (v3.7.4:e09359112e, Jul  8 2019, 14:54:52) \n",
      "[Clang 6.0 (clang-600.0.57)] on darwin\n"
     ]
    }
   ],
   "source": [
    "import sys; print('Python %s on %s' % (sys.version, sys.platform))\n",
    "sys.path.append('/Users/ajith.a/source_code/arango-ch/UGC/Arango-CH')\n",
    "sys.path.append('/Users/ajith.a/source_code/arango-ch/UGC/Arango-CH/venv/lib/python3.7/site-packages')"
   ]
  },
  {
   "cell_type": "code",
   "execution_count": 17,
   "metadata": {},
   "outputs": [],
   "source": [
    "import os\n",
    "import sys\n",
    "import traceback\n",
    "from pathlib import Path\n",
    "\n",
    "import click\n",
    "from clickhouse_driver import Client\n",
    "import pandas as pd"
   ]
  },
  {
   "cell_type": "code",
   "execution_count": 18,
   "metadata": {},
   "outputs": [],
   "source": [
    "from arango_db.connect import ArangoHelper, get_arango_client_using_dict_config\n",
    "from cache.connect import get_redis_client\n",
    "from clickhouse.connect import ClickhouseHelper, get_ch_client_with_dict_config\n",
    "from clickhouse.helper import drop_table_if_exists, rename_table\n",
    "from config import env_reader, config_reader\n",
    "from logger import logger"
   ]
  },
  {
   "cell_type": "code",
   "execution_count": 19,
   "metadata": {},
   "outputs": [],
   "source": [
    "env_reader.load_env()\n",
    "config_env = os.getenv('env')\n",
    "config = config_reader.load_config(config_env)\n",
    "path = Path(os.path.realpath(sys.argv[0])).parent\n",
    "logging = logger.initialize_logger(config_env, path, config_env == 'dev')"
   ]
  },
  {
   "cell_type": "code",
   "execution_count": 20,
   "metadata": {},
   "outputs": [],
   "source": [
    "import synchronizer.loader.populate as populate"
   ]
  },
  {
   "cell_type": "code",
   "execution_count": 21,
   "metadata": {},
   "outputs": [],
   "source": [
    "from synchronizer.consumer.schema.schemas import get_table_map_by_arango_collection, get_primary_key_map"
   ]
  },
  {
   "cell_type": "code",
   "execution_count": 22,
   "metadata": {},
   "outputs": [],
   "source": [
    "def get_all_documents(client, col):\n",
    "    result = []\n",
    "    for docs in populate.get_all_documents(client, col):\n",
    "        result.extend(docs)\n",
    "    return result"
   ]
  },
  {
   "cell_type": "code",
   "execution_count": 23,
   "metadata": {},
   "outputs": [],
   "source": [
    "def get_arano_documents_by_query(db_client: ArangoHelper, col_name, query, batch_size=10000):\n",
    "    for documents in db_client.select_using_yield(query, batch_size=batch_size, ttl=1800):\n",
    "        yield documents"
   ]
  },
  {
   "cell_type": "code",
   "execution_count": 24,
   "metadata": {},
   "outputs": [],
   "source": [
    "def get_documents_by_query(client, col, query):\n",
    "    result = []\n",
    "    for docs in get_arano_documents_by_query(client, col, query):\n",
    "        result.extend(docs)\n",
    "    return result"
   ]
  },
  {
   "cell_type": "code",
   "execution_count": 25,
   "metadata": {},
   "outputs": [],
   "source": [
    "arango_client = get_arango_client_using_dict_config(config['arango'])"
   ]
  },
  {
   "cell_type": "code",
   "execution_count": 26,
   "metadata": {},
   "outputs": [],
   "source": [
    "clickhouse: ClickhouseHelper = get_ch_client_with_dict_config(config['clickhouse'])\n",
    "clickhouse_client: Client = clickhouse.client"
   ]
  },
  {
   "cell_type": "code",
   "execution_count": 86,
   "metadata": {},
   "outputs": [],
   "source": [
    "# compare collection\n",
    "def compare_collection(collection, query, compare):\n",
    "    table_map = get_table_map_by_arango_collection(collection)\n",
    "    schema = table_map['schema']\n",
    "    ch_data = clickhouse_client.execute(f'''\n",
    "        SELECT *\n",
    "        FROM {table_map['clickhouse']}\n",
    "        FORMAT JSON\n",
    "    ''', with_column_types=True)\n",
    "    arango_data = get_documents_by_query(arango_client, table_map['arango'], query)\n",
    "    clickhouse_data = [{ch_data[1][i][0]: c for i,c in enumerate(r)} for r in ch_data[0]]\n",
    "    column_map = {v['ref'] if 'ref' in v else k:k for k, v in schema.items()}\n",
    "    arango_df = pd.DataFrame(arango_data)\n",
    "    arango_df = arango_df.rename(columns=column_map)\n",
    "    clickhouse_data_df = pd.DataFrame(clickhouse_data)\n",
    "    print(list(column_map.values()))\n",
    "    print(arango_df.info())\n",
    "    print(clickhouse_data_df.info())\n",
    "    clickhouse_data_df = clickhouse_data_df[compare]\n",
    "    arango_df = arango_df[clickhouse_data_df.columns]\n",
    "    p_key_map = get_primary_key_map()\n",
    "    primary_key = p_key_map[table_map['clickhouse']]\n",
    "    arango_df[primary_key] = arango_df[primary_key].astype(str(clickhouse_data_df[primary_key].dtype))\n",
    "    arango_df = arango_df.loc[:,~arango_df.columns.duplicated()]\n",
    "    common = pd.merge(arango_df, clickhouse_data_df, on=primary_key)\n",
    "    left_only = pd.merge(arango_df, clickhouse_data_df, on=primary_key, how='left', indicator=True)\n",
    "    left_only = left_only[left_only['_merge'] == 'left_only']\n",
    "    right_only = pd.merge(arango_df, clickhouse_data_df, on=primary_key, how='right', indicator=True)\n",
    "    right_only = right_only[right_only['_merge'] == 'right_only']\n",
    "    mismatch = pd.merge(arango_df, clickhouse_data_df, on=primary_key, how='left', indicator=True)\n",
    "    mismatch = mismatch[mismatch['_merge'] == 'both']\n",
    "    mismatch = mismatch[~mismatch[primary_key].isin(common[primary_key])]\n",
    "    duplicates = len(clickhouse_data_df[primary_key].unique()) < len(clickhouse_data_df)\n",
    "    return {\n",
    "        'arango': arango_data,\n",
    "        'clickhouse': clickhouse_data,\n",
    "        'arango_df': arango_df,\n",
    "        'clickhouse_df': clickhouse_data_df,\n",
    "        'duplicates': duplicates,\n",
    "        'arango_len': len(arango_data),\n",
    "        'clickhouse_len': len(clickhouse_data),\n",
    "        'common': common,\n",
    "        'common_len': len(common),\n",
    "        'left_only': left_only,\n",
    "        'left_only_len': len(left_only),\n",
    "        'right_only': right_only,\n",
    "        'right_only_len': len(right_only),\n",
    "        'mismatch': mismatch,\n",
    "        'mismatch_len': len(mismatch)\n",
    "    }"
   ]
  },
  {
   "cell_type": "code",
   "execution_count": 61,
   "metadata": {},
   "outputs": [],
   "source": [
    "def get_ch_columns(collection):\n",
    "    table_map = get_table_map_by_arango_collection(collection)\n",
    "    schema = table_map['schema']\n",
    "    column_map = {v['ref'] if 'ref' in v else k: k for k, v in schema.items()}\n",
    "    return column_map, list(column_map.values())"
   ]
  },
  {
   "cell_type": "code",
   "execution_count": 62,
   "metadata": {},
   "outputs": [],
   "source": [
    "def print_results(results):\n",
    "    keys = ['arango_len', 'clickhouse_len', 'duplicates', 'common_len', 'left_only_len', 'right_only_len', 'mismatch_len']\n",
    "    for k in keys:\n",
    "        print(k, ': ', result[k])"
   ]
  },
  {
   "cell_type": "code",
   "execution_count": 63,
   "metadata": {},
   "outputs": [],
   "source": [
    "def get_default_get_all_query(collection):\n",
    "    return f'''\n",
    "        for r in {collection} \n",
    "            limit 50000\n",
    "            return r\n",
    "    '''"
   ]
  },
  {
   "cell_type": "code",
   "execution_count": null,
   "metadata": {},
   "outputs": [],
   "source": [
    "# Alias routes\n",
    "result = compare_collection('AliasRoutes', ['Id', 'AliasRouteId', 'SourceRouteId', 'Country'])"
   ]
  },
  {
   "cell_type": "code",
   "execution_count": null,
   "metadata": {},
   "outputs": [],
   "source": [
    "# AmenitiesTransactions routes\n",
    "result = compare_collection('AmenitiesTransactions', ['Id', 'RbUserID', 'RouteId', 'Email', 'MobileNo', 'OperatorId',\n",
    "                                                     'ServiceId', 'OrderItemReferenceNo', 'Amenities',\n",
    "                                                     'DojInLong', 'DojEpoch', 'DepartueTime', 'ArrivalTime',\n",
    "                                                     'UserName', 'Country'])"
   ]
  },
  {
   "cell_type": "code",
   "execution_count": null,
   "metadata": {},
   "outputs": [],
   "source": [
    "print_results(result)"
   ]
  },
  {
   "cell_type": "code",
   "execution_count": null,
   "metadata": {},
   "outputs": [],
   "source": [
    "# AmenitiesTransactions routes\n",
    "result = compare_collection('AmenitiesFeedbackStatus', ['Id', 'UploadedOn', 'PublishedToAmenitiesQueueOn', 'PushNotificationTriggeredOn', 'ReceivedAmenitiesRating',\n",
    "'ReceivedRatingOn', 'ReceivedRatingVia', 'PushNotificationStatus', 'DojEpoch', 'RouteID'])"
   ]
  },
  {
   "cell_type": "code",
   "execution_count": null,
   "metadata": {},
   "outputs": [],
   "source": [
    "print_results(result)"
   ]
  },
  {
   "cell_type": "code",
   "execution_count": null,
   "metadata": {},
   "outputs": [],
   "source": [
    "result['common']"
   ]
  },
  {
   "cell_type": "code",
   "execution_count": null,
   "metadata": {},
   "outputs": [],
   "source": [
    "# Challenged reviews\n",
    "print(get_ch_columns('ChallengedReviews'))"
   ]
  },
  {
   "cell_type": "code",
   "execution_count": null,
   "metadata": {},
   "outputs": [],
   "source": [
    "result = compare_collection('ChallengedReviews', ['Id', 'Name', 'DOJInLocal', 'SourceLocation', 'DestinationLocation',\n",
    "                                                  'Pnr', 'ServiceProviderID', 'RouteID', 'SourceID', 'DestinationID',\n",
    "                                                  'SrcLocationID', 'DstLocationID', 'Value', 'RatingSubmittedOn',\n",
    "                                                  'ModeratedReview', 'Tags', 'Sentiment', 'Country', 'ReviewComment',\n",
    "                                                  'SubmittedEpoch', 'OpReply', 'Status', 'UpdatedEpoch'])"
   ]
  },
  {
   "cell_type": "code",
   "execution_count": null,
   "metadata": {},
   "outputs": [],
   "source": [
    "print_results(result)"
   ]
  },
  {
   "cell_type": "code",
   "execution_count": null,
   "metadata": {},
   "outputs": [],
   "source": [
    "result['common']"
   ]
  },
  {
   "cell_type": "code",
   "execution_count": null,
   "metadata": {},
   "outputs": [],
   "source": [
    "# OperatorReply\n",
    "print(get_ch_columns('OperatorReply'))"
   ]
  },
  {
   "cell_type": "code",
   "execution_count": null,
   "metadata": {},
   "outputs": [],
   "source": [
    "result = compare_collection('OperatorReply',\n",
    "                           '''\n",
    "                               for r in OperatorReply \n",
    "                                filter r.DojEpoch >=  1602129385000\n",
    "                                limit 50000\n",
    "                                return r\n",
    "                           ''',\n",
    "                           ['Id', 'OperatorId', 'OperatorName', 'Status', 'ServiceID', 'OrderItemReferenceNo', \n",
    "                            'Reply', 'ReplyDate', 'ModeratedReply', 'ModeratedDate', \n",
    "                            'ModeratedDateInLong', 'ModeratedBy', 'DojEpoch', 'Country'])"
   ]
  },
  {
   "cell_type": "code",
   "execution_count": null,
   "metadata": {},
   "outputs": [],
   "source": [
    "print_results(result)"
   ]
  },
  {
   "cell_type": "code",
   "execution_count": null,
   "metadata": {},
   "outputs": [],
   "source": [
    "# Note:\n",
    "# ReplyDateInLong is not captured in Arango"
   ]
  },
  {
   "cell_type": "code",
   "execution_count": null,
   "metadata": {},
   "outputs": [],
   "source": [
    "# OpRatingRecency\n",
    "print(get_ch_columns('OpRatingRecency'))"
   ]
  },
  {
   "cell_type": "code",
   "execution_count": null,
   "metadata": {},
   "outputs": [],
   "source": [
    "result = compare_collection('OpRatingRecency', get_default_get_all_query('OpRatingRecency'),\n",
    "                           ['Id', 'AverageRating', 'TotalRatings', 'IsUpdated'])"
   ]
  },
  {
   "cell_type": "code",
   "execution_count": null,
   "metadata": {},
   "outputs": [],
   "source": [
    "print_results(result)"
   ]
  },
  {
   "cell_type": "code",
   "execution_count": null,
   "metadata": {},
   "outputs": [],
   "source": [
    "result['common']"
   ]
  },
  {
   "cell_type": "code",
   "execution_count": null,
   "metadata": {},
   "outputs": [],
   "source": [
    "# RatingRecency\n",
    "print(get_ch_columns('RatingRecency'))"
   ]
  },
  {
   "cell_type": "code",
   "execution_count": null,
   "metadata": {},
   "outputs": [],
   "source": [
    "result = compare_collection('RatingRecency', get_default_get_all_query('RatingRecency'),\n",
    "                           ['RouteId', 'TotalRatings', 'AverageRating', 'Country', 'OneRatingPerc', \n",
    "                            'TwoRatingPerc', 'ThreeRatingPerc', 'FourRatingPerc', 'FiveRatingPerc',\n",
    "                            'OperatorId'])\n",
    "\n",
    "print_results(result)"
   ]
  },
  {
   "cell_type": "code",
   "execution_count": null,
   "metadata": {},
   "outputs": [],
   "source": [
    "# RatingRecency_LATAM\n",
    "print(get_ch_columns('RatingRecency_LATAM'))"
   ]
  },
  {
   "cell_type": "code",
   "execution_count": null,
   "metadata": {},
   "outputs": [],
   "source": [
    "result = compare_collection('RatingRecency_LATAM', get_default_get_all_query('RatingRecency_LATAM'),\n",
    "                           ['RouteId', 'TotalRatings', 'AverageRating', 'Country', 'OneRatingPerc', \n",
    "                            'TwoRatingPerc', 'ThreeRatingPerc', 'FourRatingPerc', 'FiveRatingPerc',\n",
    "                            'OperatorId'])\n",
    "\n",
    "print_results(result)"
   ]
  },
  {
   "cell_type": "code",
   "execution_count": null,
   "metadata": {},
   "outputs": [],
   "source": [
    "# RatingRecency_SEA\n",
    "print(get_ch_columns('RatingRecency_SEA'))"
   ]
  },
  {
   "cell_type": "code",
   "execution_count": null,
   "metadata": {},
   "outputs": [],
   "source": [
    "result = compare_collection('RatingRecency_SEA', get_default_get_all_query('RatingRecency_SEA'),\n",
    "                           ['RouteId', 'TotalRatings', 'AverageRating', 'Country', 'OneRatingPerc', \n",
    "                            'TwoRatingPerc', 'ThreeRatingPerc', 'FourRatingPerc', 'FiveRatingPerc',\n",
    "                            'OperatorId'])\n",
    "\n",
    "print_results(result)"
   ]
  },
  {
   "cell_type": "code",
   "execution_count": null,
   "metadata": {},
   "outputs": [],
   "source": [
    "# RatingRecency_RDC\n",
    "print(get_ch_columns('RatingRecency_RDC'))"
   ]
  },
  {
   "cell_type": "code",
   "execution_count": null,
   "metadata": {},
   "outputs": [],
   "source": [
    "result = compare_collection('RatingRecency_RDC', get_default_get_all_query('RatingRecency_RDC'),\n",
    "                           ['Id', 'RouteId', 'TotalRatings', 'AverageRating', 'Country', 'OneRatingPerc', \n",
    "                            'TwoRatingPerc', 'ThreeRatingPerc', 'FourRatingPerc', 'FiveRatingPerc',\n",
    "                            'OperatorId'])\n",
    "\n",
    "print_results(result)"
   ]
  },
  {
   "cell_type": "code",
   "execution_count": null,
   "metadata": {},
   "outputs": [],
   "source": [
    "# RestStopDetails\n",
    "print(get_ch_columns('RestStopDetails'))"
   ]
  },
  {
   "cell_type": "code",
   "execution_count": null,
   "metadata": {},
   "outputs": [],
   "source": [
    "result = compare_collection('RestStopDetails', get_default_get_all_query('RestStopDetails'),\n",
    "                            ['RestStopId', 'Latitude', 'Longitude', 'ArrivalTime', 'LocationName', 'Duration', \n",
    "                            'RatingCount', 'UploadedOn'])\n",
    "\n",
    "print_results(result)"
   ]
  },
  {
   "cell_type": "code",
   "execution_count": null,
   "metadata": {},
   "outputs": [],
   "source": [
    "# RestStopDetails_Response\n",
    "print(get_ch_columns('RestStopDetails_Response'))"
   ]
  },
  {
   "cell_type": "code",
   "execution_count": null,
   "metadata": {},
   "outputs": [],
   "source": [
    "result = compare_collection('RestStopDetails_Response', get_default_get_all_query('RestStopDetails_Response'),\n",
    "                            ['Id', 'OrderItemUUID', 'RestStopID', 'RouteID', 'DojEpoch', 'ServiceProviderID', \n",
    "                             'SubmittedOn'])\n",
    "\n",
    "print_results(result)"
   ]
  },
  {
   "cell_type": "code",
   "execution_count": null,
   "metadata": {},
   "outputs": [],
   "source": [
    "# UserRatings\n",
    "print(get_ch_columns('UserRatings'))"
   ]
  },
  {
   "cell_type": "code",
   "execution_count": null,
   "metadata": {},
   "outputs": [],
   "source": [
    "result = compare_collection('UserRatings',\n",
    "                            '''\n",
    "                                for r in UserRatings\n",
    "                                    filter r.DojEpoch >= 1638993971\n",
    "                                    limit 50000\n",
    "                                    return r\n",
    "                            ''',\n",
    "                            ['Id', 'Value', 'RatingSubmittedOn', 'RatingDateOfSubmitInLong', 'RatingEpoch', \n",
    "                             'IsNeonUpdated', 'RbUserID', 'RbUserIDHash', 'MobileNo', 'Email', \n",
    "                             'TotalCustomerPayable', 'SourceLocation', 'ServiceProviderName', 'RouteID', \n",
    "                             'OrderItemReferenceNo', 'DestinationLocation', 'DateOfService', 'DateOfPurchase', \n",
    "                             'DepartueTime', 'ArrivalTime', 'Country', 'SourceID', 'DestinationID', 'ServiceProviderID', 'NoOfSeats', 'Status', 'OrgUnit', \n",
    "                             'DroppingPoIntID', 'BoardingPoIntID', 'DroppingPoInt', 'BoardingPoInt', \n",
    "                             'Name', 'Gender', 'Pnr', 'ServiceID', 'SalesChannel', 'OrderItemID', 'OrderItemUUID',\n",
    "                             'OrderID', 'OrderUUID', 'IsOptInForWhatsapp', 'SelectedLanguage', 'JourneyType',\n",
    "                             'IsGPSEnabled', 'DOJInLocal', 'BusType', 'SeatName', 'DojInLong', 'DojEpoch', 'Age', \n",
    "                             'BusTypeId', 'SrcLocationId', 'DstLocationId', 'Amenities'])\n",
    "\n",
    "print_results(result)\n"
   ]
  },
  {
   "cell_type": "code",
   "execution_count": null,
   "metadata": {},
   "outputs": [],
   "source": [
    "# UserReviews\n",
    "print(get_ch_columns('UserReview'))"
   ]
  },
  {
   "cell_type": "code",
   "execution_count": null,
   "metadata": {},
   "outputs": [],
   "source": [
    "result = compare_collection('UserReview',\n",
    "                            '''\n",
    "                                for r in UserReview\n",
    "                                    filter r.DojEpoch >= 1638993971\n",
    "                                    limit 50000\n",
    "                                    return r\n",
    "                            ''',\n",
    "                            ['Id', 'Review', 'ReviewSubmittedOn', 'ReviewDateOfSubmitInLong', \n",
    "                             'DateOfModifiedInLong', 'ModeratedReview', 'ModeratedReviewSubmittedOn', \n",
    "                             'ModeratedDateInLong', 'ModeratedBy', 'Status', 'DojEpoch', 'RatingEpoch', \n",
    "                             'Country', 'HelpfulCount', 'ViewCount', 'PredictedTags', 'SelectedTags'])\n",
    "\n",
    "print_results(result)\n"
   ]
  },
  {
   "cell_type": "code",
   "execution_count": null,
   "metadata": {},
   "outputs": [],
   "source": [
    "# UserReviewTags\n",
    "# Can't validate now need special case handling for ReviewTags\n",
    "print(get_ch_columns('UserReviewTags'))"
   ]
  },
  {
   "cell_type": "code",
   "execution_count": null,
   "metadata": {},
   "outputs": [],
   "source": [
    "result = compare_collection('UserReviewTags',\n",
    "                            '''\n",
    "                                for r in UserReviewTags\n",
    "                                    filter r.DojEpoch >= 1638993971\n",
    "                                    limit 50000\n",
    "                                    return r\n",
    "                            ''',\n",
    "                            ['Id', 'SubmittedOn', \n",
    "                             'SubmitInLong', 'DojEpoch', 'Country'])\n",
    "\n",
    "print_results(result)\n"
   ]
  },
  {
   "cell_type": "code",
   "execution_count": 89,
   "metadata": {},
   "outputs": [
    {
     "name": "stdout",
     "output_type": "stream",
     "text": [
      "({'_key': 'UserId', 'UserIdHash': 'UserIdHash', 'UserName': 'UserName', 'PhoneCode': 'PhoneCode', 'Mobile': 'Mobile', 'Email': 'Email', 'ModifiedOn': 'ModifiedOn', '_sign': '_sign', '_ver': '_ver'}, ['UserId', 'UserIdHash', 'UserName', 'PhoneCode', 'Mobile', 'Email', 'ModifiedOn', '_sign', '_ver'])\n"
     ]
    }
   ],
   "source": [
    "# User\n",
    "print(get_ch_columns('User'))"
   ]
  },
  {
   "cell_type": "code",
   "execution_count": 90,
   "metadata": {},
   "outputs": [
    {
     "name": "stdout",
     "output_type": "stream",
     "text": [
      "read 2\n",
      "read 3\n",
      "read 4\n",
      "read 5\n",
      "['UserId', 'UserIdHash', 'UserName', 'PhoneCode', 'Mobile', 'Email', 'ModifiedOn', '_sign', '_ver']\n",
      "<class 'pandas.core.frame.DataFrame'>\n",
      "RangeIndex: 50000 entries, 0 to 49999\n",
      "Data columns (total 6 columns):\n",
      " #   Column          Non-Null Count  Dtype \n",
      "---  ------          --------------  ----- \n",
      " 0   UserId          50000 non-null  object\n",
      " 1   _id             50000 non-null  object\n",
      " 2   _rev            50000 non-null  object\n",
      " 3   UserId          50000 non-null  object\n",
      " 4   IsUnSubscribed  19 non-null     object\n",
      " 5   UpdatedOn       19 non-null     object\n",
      "dtypes: object(6)\n",
      "memory usage: 2.3+ MB\n",
      "None\n",
      "<class 'pandas.core.frame.DataFrame'>\n",
      "RangeIndex: 50000 entries, 0 to 49999\n",
      "Data columns (total 9 columns):\n",
      " #   Column      Non-Null Count  Dtype \n",
      "---  ------      --------------  ----- \n",
      " 0   UserId      50000 non-null  int64 \n",
      " 1   UserIdHash  50000 non-null  object\n",
      " 2   UserName    50000 non-null  object\n",
      " 3   PhoneCode   50000 non-null  object\n",
      " 4   Mobile      50000 non-null  object\n",
      " 5   Email       50000 non-null  object\n",
      " 6   ModifiedOn  50000 non-null  int64 \n",
      " 7   _sign       50000 non-null  int64 \n",
      " 8   _ver        50000 non-null  int64 \n",
      "dtypes: int64(4), object(5)\n",
      "memory usage: 3.4+ MB\n",
      "None\n",
      "arango_len :  50000\n",
      "clickhouse_len :  50000\n",
      "duplicates :  False\n",
      "common_len :  50000\n",
      "left_only_len :  0\n",
      "right_only_len :  0\n",
      "mismatch_len :  0\n"
     ]
    }
   ],
   "source": [
    "result = compare_collection('User', get_default_get_all_query('User'), ['UserId'])\n",
    "\n",
    "print_results(result)"
   ]
  },
  {
   "cell_type": "code",
   "execution_count": 66,
   "metadata": {},
   "outputs": [
    {
     "name": "stdout",
     "output_type": "stream",
     "text": [
      "<class 'pandas.core.frame.DataFrame'>\n",
      "Int64Index: 1 entries, 49999 to 49999\n",
      "Data columns (total 2 columns):\n",
      " #   Column  Non-Null Count  Dtype   \n",
      "---  ------  --------------  -----   \n",
      " 0   UserId  1 non-null      int64   \n",
      " 1   _merge  1 non-null      category\n",
      "dtypes: category(1), int64(1)\n",
      "memory usage: 121.0 bytes\n"
     ]
    }
   ],
   "source": [
    "result['left_only'].info()"
   ]
  },
  {
   "cell_type": "code",
   "execution_count": null,
   "metadata": {},
   "outputs": [],
   "source": []
  }
 ],
 "metadata": {
  "kernelspec": {
   "display_name": "arango-ch",
   "language": "python",
   "name": "arango-ch"
  },
  "language_info": {
   "codemirror_mode": {
    "name": "ipython",
    "version": 3
   },
   "file_extension": ".py",
   "mimetype": "text/x-python",
   "name": "python",
   "nbconvert_exporter": "python",
   "pygments_lexer": "ipython3",
   "version": "3.7.4"
  }
 },
 "nbformat": 4,
 "nbformat_minor": 4
}
